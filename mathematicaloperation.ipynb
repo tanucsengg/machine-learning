{
 "cells": [
  {
   "cell_type": "code",
   "execution_count": null,
   "id": "e41a0647",
   "metadata": {},
   "outputs": [],
   "source": [
    "# convert List to tuple\n",
    "month = ['jan','feb','mar','apr','may','jun','jul','aug','sep','oct','nov','dec']  \n",
    "converting_list = tuple(month)  \n",
    "print(converting_list)  \n",
    "print(type(converting_list))  "
   ]
  },
  {
   "cell_type": "code",
   "execution_count": 1,
   "id": "2514e55b",
   "metadata": {},
   "outputs": [
    {
     "name": "stdout",
     "output_type": "stream",
     "text": [
      "[]\n",
      "[[0.00e+000 0.00e+000 0.00e+000]\n",
      " [0.00e+000 0.00e+000 4.92e-321]\n",
      " [0.00e+000 0.00e+000 0.00e+000]]\n"
     ]
    }
   ],
   "source": [
    "import numpy  \n",
    "#method 1  \n",
    "array_1 = numpy.array([])  \n",
    "print(array_1)  \n",
    "#method 2  \n",
    "array_2 = numpy.empty(shape=(3,3))  \n",
    "print(array_2)  "
   ]
  },
  {
   "cell_type": "code",
   "execution_count": 2,
   "id": "d3cb9b06",
   "metadata": {
    "collapsed": true
   },
   "outputs": [
    {
     "name": "stdout",
     "output_type": "stream",
     "text": [
      "3\n",
      "6\n",
      "7\n"
     ]
    }
   ],
   "source": [
    "import array  \n",
    "a = [4, 6, 8, 3, 1, 7]  \n",
    "print(a[-3])  \n",
    "print(a[-5])  \n",
    "print(a[-1])  "
   ]
  },
  {
   "cell_type": "code",
   "execution_count": null,
   "id": "20ca3b87",
   "metadata": {},
   "outputs": [],
   "source": [
    "Print( sum(range(1,102)) )  "
   ]
  },
  {
   "cell_type": "code",
   "execution_count": null,
   "id": "4514cf77",
   "metadata": {},
   "outputs": [],
   "source": [
    "# calculate the mean of a number in the list\n",
    "n = int(input(\"Number of Elements to take average of: \"))  \n",
    "l=[]  \n",
    "for i in range(1,n+1):  \n",
    "    element = int(input(\"Enter the element: \"))  \n",
    "    l.append(element)  \n",
    "average = sum(l)/n  \n",
    "print(\"Average of the elements in list\",round(average,2))  "
   ]
  },
  {
   "cell_type": "code",
   "execution_count": null,
   "id": "87e41473",
   "metadata": {},
   "outputs": [],
   "source": [
    "# program to reverse a number \n",
    "n = int(input(\"Enter number: \"))  \n",
    "  \n",
    "reverse = 0  \n",
    "  \n",
    "while(n>0):  \n",
    "    digit = n%10  \n",
    "    reverse = reverse*10+digit  \n",
    "    n=n//10  \n",
    "print(\"The reverse of the number:\",reverse)  "
   ]
  },
  {
   "cell_type": "code",
   "execution_count": null,
   "id": "80158b0c",
   "metadata": {},
   "outputs": [],
   "source": [
    "list_comp = [i for i in range(4)]  \n",
    "print(list_comp)  "
   ]
  },
  {
   "cell_type": "code",
   "execution_count": null,
   "id": "6cbaf15f",
   "metadata": {},
   "outputs": [],
   "source": [
    "dictt = {i : i+2 for i in range(10)}  \n",
    "print(dictt)  "
   ]
  },
  {
   "cell_type": "code",
   "execution_count": null,
   "id": "c78f9d7d",
   "metadata": {},
   "outputs": [],
   "source": [
    "# Python program to show how global variables and local variables are different  \n",
    "var = 56  \n",
    "# Creating a function  \n",
    "def addition():  \n",
    "    var1 = 7  \n",
    "    c = var + var1  \n",
    "    print(\"In local scope: \", var1)  \n",
    "    print(\"Adding a global scope and a local scope variable: \", c)  \n",
    "addition()  \n",
    "print(\"In global scope: \", var)"
   ]
  },
  {
   "cell_type": "code",
   "execution_count": null,
   "id": "459d6a5b",
   "metadata": {},
   "outputs": [],
   "source": [
    "# Python program to show the difference between a list and an array  \n",
    "  \n",
    "# Importing array module  \n",
    "import array as arr  \n",
    "  \n",
    "# Creating an array and a list  \n",
    "array_1 = arr.array(\"i\", [3, 6, 2, 7, 9, 5])  \n",
    "list_1 = [4, 'Interview', 7.20]  \n",
    "  \n",
    "print(array_1)  \n",
    "print(list_1)  \n",
    "  \n",
    "# Trying to create an array with multiple data types  \n",
    "try:  \n",
    "    array_2 = arr.array(\"i\", [3, 7, 3, \"Interview\"])  \n",
    "except Exception as e:  \n",
    "    print(e)  "
   ]
  },
  {
   "cell_type": "code",
   "execution_count": null,
   "id": "7d362759",
   "metadata": {},
   "outputs": [],
   "source": [
    "In Python, __init__ is a function or function Object() { [native code] }.\n",
    "When a new object/instance of a class is created, this function is automatically called to reserve memory. \n",
    "The __init__ method is available in all classes."
   ]
  },
  {
   "cell_type": "code",
   "execution_count": null,
   "id": "f20a201f",
   "metadata": {},
   "outputs": [],
   "source": [
    "# Python program to explain __init__  \n",
    "  \n",
    "class Student:  \n",
    "    def __init__(self, st_name, st_class, st_marks):  \n",
    "        self.st_name = st_name  \n",
    "        self.st_class = st_class  \n",
    "        self.st_marks = 67  \n",
    "S1 = Student(\"Tanu\", 10, 67)  \n",
    "print(S1.st_name)  \n",
    "print(S1.st_class) "
   ]
  },
  {
   "cell_type": "markdown",
   "id": "64e3d4f8",
   "metadata": {},
   "source": [
    "- A lambda function is a type of nameless function. This method can take as many parameters as you want but a single statement."
   ]
  },
  {
   "cell_type": "code",
   "execution_count": 3,
   "id": "8b5e1bef",
   "metadata": {},
   "outputs": [
    {
     "name": "stdout",
     "output_type": "stream",
     "text": [
      "Sum using lambda function is:  18\n"
     ]
    }
   ],
   "source": [
    "# Python program to show how to use lambda functions  \n",
    "  \n",
    "# Creating a lambda function for addition  \n",
    "sum_ = lambda x, y, z : x + y + z  \n",
    "print(\"Sum using lambda function is: \", sum_(4, 6, 8))  "
   ]
  },
  {
   "cell_type": "code",
   "execution_count": 4,
   "id": "0f3d5bb3",
   "metadata": {},
   "outputs": [
    {
     "name": "stdout",
     "output_type": "stream",
     "text": [
      "Original list:  ['Python', 'Interview', 'Questions', 'Randomise', 'List']\n",
      "After randomising the list:  ['Randomise', 'List', 'Interview', 'Questions', 'Python']\n"
     ]
    }
   ],
   "source": [
    "# Python program to show to randomise elements of a list  \n",
    "  \n",
    "# Importing the random module  \n",
    "import random  \n",
    "list_ = [\"Python\", \"Interview\", \"Questions\", \"Randomise\", \"List\"]  \n",
    "print(\"Original list: \", list_)  \n",
    "random.shuffle(list_)  \n",
    "print(\"After randomising the list: \", list_)  "
   ]
  },
  {
   "cell_type": "code",
   "execution_count": 5,
   "id": "7d1ccc96",
   "metadata": {},
   "outputs": [
    {
     "name": "stdout",
     "output_type": "stream",
     "text": [
      "pythonisareptile\n"
     ]
    }
   ],
   "source": [
    "# Python program to show how to convert a string to lower case  \n",
    "  \n",
    "string = 'PYTHONISAREPTILE'  \n",
    "print(string.lower()) "
   ]
  },
  {
   "cell_type": "code",
   "execution_count": null,
   "id": "2587b515",
   "metadata": {},
   "outputs": [],
   "source": [
    "# Python program to show how to write a docstring  \n",
    "  \n",
    "\"\"\" \n",
    "This is a docstring. \n",
    "We write docstrings to explain a program. \n",
    "This program will multiply two numbers and then display the output. \n",
    "\"\"\"  \n",
    "a = 39  \n",
    "b = 45  \n",
    "c = a * b  \n",
    "print(\"Result of multiplication: \", c)  "
   ]
  },
  {
   "cell_type": "code",
   "execution_count": 8,
   "id": "3f1a2475",
   "metadata": {},
   "outputs": [
    {
     "ename": "NameError",
     "evalue": "name 'arr' is not defined",
     "output_type": "error",
     "traceback": [
      "\u001b[1;31m---------------------------------------------------------------------------\u001b[0m",
      "\u001b[1;31mNameError\u001b[0m                                 Traceback (most recent call last)",
      "\u001b[1;32m<ipython-input-8-56ee7fe79204>\u001b[0m in \u001b[0;36m<module>\u001b[1;34m\u001b[0m\n\u001b[0;32m      1\u001b[0m \u001b[1;31m# Python program to show how to add elements to an array\u001b[0m\u001b[1;33m\u001b[0m\u001b[1;33m\u001b[0m\u001b[1;33m\u001b[0m\u001b[0m\n\u001b[0;32m      2\u001b[0m \u001b[1;33m\u001b[0m\u001b[0m\n\u001b[1;32m----> 3\u001b[1;33m \u001b[0marray\u001b[0m \u001b[1;33m=\u001b[0m \u001b[0marr\u001b[0m\u001b[1;33m.\u001b[0m\u001b[0marray\u001b[0m\u001b[1;33m(\u001b[0m\u001b[1;34m'd'\u001b[0m\u001b[1;33m,\u001b[0m \u001b[1;33m[\u001b[0m\u001b[1;36m1\u001b[0m \u001b[1;33m,\u001b[0m \u001b[1;36m2\u001b[0m \u001b[1;33m,\u001b[0m\u001b[1;36m3\u001b[0m\u001b[1;33m]\u001b[0m \u001b[1;33m)\u001b[0m\u001b[1;33m\u001b[0m\u001b[1;33m\u001b[0m\u001b[0m\n\u001b[0m\u001b[0;32m      4\u001b[0m \u001b[0marray\u001b[0m\u001b[1;33m.\u001b[0m\u001b[0mappend\u001b[0m\u001b[1;33m(\u001b[0m\u001b[1;36m8\u001b[0m\u001b[1;33m)\u001b[0m \u001b[1;31m# appending will add an element to the end of the array\u001b[0m\u001b[1;33m\u001b[0m\u001b[1;33m\u001b[0m\u001b[0m\n\u001b[0;32m      5\u001b[0m \u001b[0mprint\u001b[0m\u001b[1;33m(\u001b[0m\u001b[0marray\u001b[0m\u001b[1;33m)\u001b[0m\u001b[1;33m\u001b[0m\u001b[1;33m\u001b[0m\u001b[0m\n",
      "\u001b[1;31mNameError\u001b[0m: name 'arr' is not defined"
     ]
    }
   ],
   "source": [
    "# Python program to show how to add elements to an array  \n",
    "\n",
    "array = arr.array('d', [1 , 2 ,3] )  \n",
    "array.append(8) # appending will add an element to the end of the array  \n",
    "print(array)  \n",
    "array.extend([4,6,9]) # extending will add elements by looping through the given iterable  \n",
    "print(array)  \n",
    "array.insert(2, 9) # inserting will add the element at the specified index  \n",
    "print(array)  "
   ]
  },
  {
   "cell_type": "code",
   "execution_count": null,
   "id": "034b60ca",
   "metadata": {},
   "outputs": [],
   "source": []
  }
 ],
 "metadata": {
  "kernelspec": {
   "display_name": "Python 3",
   "language": "python",
   "name": "python3"
  },
  "language_info": {
   "codemirror_mode": {
    "name": "ipython",
    "version": 3
   },
   "file_extension": ".py",
   "mimetype": "text/x-python",
   "name": "python",
   "nbconvert_exporter": "python",
   "pygments_lexer": "ipython3",
   "version": "3.8.8"
  }
 },
 "nbformat": 4,
 "nbformat_minor": 5
}
